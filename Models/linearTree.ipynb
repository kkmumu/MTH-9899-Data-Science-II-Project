{
 "cells": [
  {
   "cell_type": "code",
   "execution_count": 2,
   "id": "b430aee6",
   "metadata": {},
   "outputs": [],
   "source": [
    "import datetime\n",
    "from datetime import datetime as dt\n",
    "from dateutil.relativedelta import *\n",
    "\n",
    "import glob\n",
    "\n",
    "import os\n",
    "\n",
    "import pandas as pd\n",
    "\n",
    "import matplotlib.pyplot as plt\n",
    "#from mlxtend.feature_selection import SequentialFeatureSelector as sfs\n",
    "\n",
    "import numpy as np\n",
    "\n",
    "from sklearn.base import clone\n",
    "from sklearn.datasets import make_regression\n",
    "from sklearn.linear_model import LinearRegression, Lasso, Ridge\n",
    "from sklearn.inspection import permutation_importance\n",
    "from sklearn.metrics import r2_score, make_scorer\n",
    "from sklearn.model_selection import *\n",
    "from sklearn.preprocessing import *\n",
    "from sklearn.utils import indexable\n",
    "from sklearn.utils.validation import _num_samples\n",
    "from statsmodels.stats.outliers_influence import variance_inflation_factor\n",
    "import seaborn as sns\n",
    "\n",
    "#!pip install --upgrade linear-tree\n",
    "from lineartree import *\n",
    "\n",
    "#import warnings\n",
    "#warnings.filterwarnings(\"ignore\")\n",
    "\n",
    "my_random_state = 2022"
   ]
  },
  {
   "cell_type": "code",
   "execution_count": 5,
   "id": "d6099d51",
   "metadata": {},
   "outputs": [],
   "source": [
    "path = \"./beforeTrainning.csv\"\n",
    "m = pd.read_csv(path, sep = \",\", usecols = ['10/17res', '10/17raw', '16/17res', '16/17raw', '17ma1raw', '17ma3raw',\n",
    "       '17ma5raw', '17ma20raw', '17ma1-3raw', '17ma1-5raw', '17ma1-20raw',\n",
    "       '17ma1res', '17ma3res', '17ma5res', '17ma20res', '17ma1-3res',\n",
    "       '17ma1-5res', '17ma1-20res', 'market_value', '10/17vol', '16/17vol',\n",
    "       'turnover_ma1', 'turnover_ma3', 'turnover_ma5', 'turnover_ma20',\n",
    "       'estVol', 'cleanMid17', 'cleanMid16', 'cleanMid10', 'vol17', 'y'])\n",
    "path = \"./merged_with_dates.csv\"\n",
    "mwd = pd.read_csv(path, sep = \",\")"
   ]
  },
  {
   "cell_type": "code",
   "execution_count": 6,
   "id": "535b6345",
   "metadata": {},
   "outputs": [],
   "source": [
    "train = m.loc[list(mwd[mwd[\"Date\"] < 20170101].index)]\n",
    "test = m.loc[list(mwd[mwd[\"Date\"] >= 20170101].index)]\n",
    "\n",
    "X_train = train.iloc[: , :-1]\n",
    "y_train = train[\"y\"]\n",
    "X_test = test.iloc[: , :-1]\n",
    "y_test = test[\"y\"]\n",
    "\n",
    "# scale the features in train set\n",
    "sc = StandardScaler()\n",
    "X_train_scaled = sc.fit_transform(X_train)\n",
    "X_train_scaled = pd.DataFrame(data = X_train_scaled, columns = X_train.columns)\n",
    "\n",
    "# do the same scaling to test set\n",
    "X_test_scaled = sc.transform(X_test)\n",
    "X_test_scaled = pd.DataFrame(data = X_test_scaled, columns = X_test.columns)"
   ]
  },
  {
   "cell_type": "code",
   "execution_count": 5,
   "id": "400da6c8",
   "metadata": {},
   "outputs": [],
   "source": [
    "def weighted_r2_scorer(model, X, y):\n",
    "\n",
    "    r2_weight = 1 / np.array(X[\"estVol\"])\n",
    "    r2_weight = r2_weight / np.sum(r2_weight)\n",
    "    \n",
    "    y_pred = model.predict(X)\n",
    "        \n",
    "    return r2_score(y, y_pred, sample_weight = r2_weight)"
   ]
  },
  {
   "cell_type": "markdown",
   "id": "a005def2",
   "metadata": {},
   "source": [
    "## Linear Forest"
   ]
  },
  {
   "cell_type": "code",
   "execution_count": 6,
   "id": "863fe1ef",
   "metadata": {
    "collapsed": true
   },
   "outputs": [
    {
     "ename": "AttributeError",
     "evalue": "'LinearForestRegressor' object has no attribute 'plot_model'",
     "output_type": "error",
     "traceback": [
      "\u001b[0;31m---------------------------------------------------------------------------\u001b[0m",
      "\u001b[0;31mAttributeError\u001b[0m                            Traceback (most recent call last)",
      "\u001b[0;32m<ipython-input-6-26a75fd9c025>\u001b[0m in \u001b[0;36m<module>\u001b[0;34m\u001b[0m\n\u001b[1;32m      4\u001b[0m \u001b[0;34m\u001b[0m\u001b[0m\n\u001b[1;32m      5\u001b[0m \u001b[0;31m## plot full fitted model tree\u001b[0m\u001b[0;34m\u001b[0m\u001b[0;34m\u001b[0m\u001b[0;34m\u001b[0m\u001b[0m\n\u001b[0;32m----> 6\u001b[0;31m \u001b[0mfig\u001b[0m \u001b[0;34m=\u001b[0m \u001b[0mregr\u001b[0m\u001b[0;34m.\u001b[0m\u001b[0mplot_model\u001b[0m\u001b[0;34m(\u001b[0m\u001b[0;34m)\u001b[0m\u001b[0;34m\u001b[0m\u001b[0;34m\u001b[0m\u001b[0m\n\u001b[0m\u001b[1;32m      7\u001b[0m \u001b[0mplt\u001b[0m\u001b[0;34m.\u001b[0m\u001b[0msavefig\u001b[0m\u001b[0;34m(\u001b[0m\u001b[0;34m\"LinearForest.png\"\u001b[0m\u001b[0;34m)\u001b[0m\u001b[0;34m\u001b[0m\u001b[0;34m\u001b[0m\u001b[0m\n\u001b[1;32m      8\u001b[0m \u001b[0;34m\u001b[0m\u001b[0m\n",
      "\u001b[0;31mAttributeError\u001b[0m: 'LinearForestRegressor' object has no attribute 'plot_model'"
     ]
    }
   ],
   "source": [
    "# fit a linear forest regressor\n",
    "regr = LinearForestRegressor(base_estimator = LinearRegression())\n",
    "regr.fit(X_train_scaled, y_train)"
   ]
  },
  {
   "cell_type": "code",
   "execution_count": 9,
   "id": "08a5c06d",
   "metadata": {},
   "outputs": [
    {
     "name": "stdout",
     "output_type": "stream",
     "text": [
      "Prediction score:  -0.014045787194509218\n"
     ]
    }
   ],
   "source": [
    "y_pred = regr.predict(X_test_scaled)\n",
    "r2_weight = 1 / X_test[\"estVol\"]\n",
    "print(\"Prediction score: \", r2_score(y_test, y_pred, sample_weight = r2_weight))"
   ]
  },
  {
   "cell_type": "code",
   "execution_count": 11,
   "id": "f6bc44be",
   "metadata": {},
   "outputs": [
    {
     "name": "stdout",
     "output_type": "stream",
     "text": [
      "Prediction score:  1.2187360028813665\n"
     ]
    }
   ],
   "source": [
    "y_pred = regr.predict(X_test_scaled)\n",
    "r2_weight = 1 / X_test_scaled[\"estVol\"]\n",
    "print(\"Prediction score: \", r2_score(y_test, y_pred, sample_weight = r2_weight))"
   ]
  },
  {
   "cell_type": "markdown",
   "id": "052ad77a",
   "metadata": {},
   "source": [
    "## Linear Boosting"
   ]
  },
  {
   "cell_type": "code",
   "execution_count": 28,
   "id": "99b00c9d",
   "metadata": {},
   "outputs": [
    {
     "data": {
      "text/plain": [
       "LinearBoostRegressor(base_estimator=LinearRegression(), n_estimators=30)"
      ]
     },
     "execution_count": 28,
     "metadata": {},
     "output_type": "execute_result"
    }
   ],
   "source": [
    "## fit a linear boost regressor\n",
    "lb = LinearBoostRegressor(base_estimator=LinearRegression(), loss='linear', n_estimators=30)\n",
    "lb.fit(X_train, y_train)"
   ]
  },
  {
   "cell_type": "code",
   "execution_count": 29,
   "id": "33d4f35c",
   "metadata": {},
   "outputs": [
    {
     "name": "stdout",
     "output_type": "stream",
     "text": [
      "Prediction score:  4.0920949621825464e-05\n"
     ]
    }
   ],
   "source": [
    "y_pred_lb = lb.predict(X_test)\n",
    "r2_weight = 1 / X_test[\"estVol\"]\n",
    "r2_weight = r2_weight / sum(r2_weight)\n",
    "print(\"Prediction score: \", r2_score(y_test, y_pred_lb, sample_weight = r2_weight))"
   ]
  },
  {
   "cell_type": "code",
   "execution_count": 30,
   "id": "35e46368",
   "metadata": {},
   "outputs": [
    {
     "data": {
      "text/plain": [
       "<matplotlib.legend.Legend at 0x7fb262140eb0>"
      ]
     },
     "execution_count": 30,
     "metadata": {},
     "output_type": "execute_result"
    },
    {
     "data": {
      "image/png": "[encoded data removed]",
      "text/plain": [
       "<Figure size 864x432 with 1 Axes>"
      ]
     },
     "metadata": {
      "needs_background": "light"
     },
     "output_type": "display_data"
    }
   ],
   "source": [
    "## show feature importances (coefficients)\n",
    "plt.figure(figsize=(12,6))\n",
    "plt.plot(lb.coef_, color='red')\n",
    "plt.xlim(0, lb.coef_.shape[-1]-1)\n",
    "plt.ylabel('coefficients'); plt.xlabel('features')\n",
    "plt.axhline(0, c='black', linestyle='--', alpha=0.3)\n",
    "plt.axvspan(0, X_train.shape[-1], alpha=0.3, color='orange', label='original features')\n",
    "plt.axvspan(X_train.shape[-1], lb.coef_.shape[-1]-1, alpha=0.3, color='green', label='new features')\n",
    "plt.legend()"
   ]
  },
  {
   "cell_type": "code",
   "execution_count": null,
   "id": "112d7cfc",
   "metadata": {},
   "outputs": [],
   "source": []
  }
 ],
 "metadata": {
  "kernelspec": {
   "display_name": "Python 3",
   "language": "python",
   "name": "python3"
  },
  "language_info": {
   "codemirror_mode": {
    "name": "ipython",
    "version": 3
   },
   "file_extension": ".py",
   "mimetype": "text/x-python",
   "name": "python",
   "nbconvert_exporter": "python",
   "pygments_lexer": "ipython3",
   "version": "3.8.8"
  }
 },
 "nbformat": 4,
 "nbformat_minor": 5
}
