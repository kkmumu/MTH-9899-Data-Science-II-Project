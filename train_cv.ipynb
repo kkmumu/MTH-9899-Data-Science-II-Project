{
  "cells": [
    {
      "cell_type": "code",
      "source": [
        "import joblib\n",
        "import sys\n",
        "sys.modules['sklearn.externals.joblib'] = joblib"
      ],
      "metadata": {
        "id": "5n46u7NZjqim"
      },
      "execution_count": null,
      "outputs": []
    },
    {
      "cell_type": "code",
      "source": [
        "from prep import *\n",
        "from features import *\n",
        "from cross_validation import *\n",
        "import light_gbm\n",
        "import xg_boost\n",
        "import extra_trees\n",
        "from regmodel import *"
      ],
      "metadata": {
        "id": "6d7FumNmZlYc"
      },
      "execution_count": null,
      "outputs": []
    },
    {
      "cell_type": "markdown",
      "source": [
        "## Load Data"
      ],
      "metadata": {
        "id": "JK8odj4FkRik"
      }
    },
    {
      "cell_type": "code",
      "source": [
        "from google.colab import drive\n",
        "drive.mount('/content/drive')\n",
        "\n",
        "unzip('/content/drive/My Drive/Colab Notebooks/test.zip')"
      ],
      "metadata": {
        "colab": {
          "base_uri": "https://localhost:8080/"
        },
        "id": "Vkw4DaQMiXZ_",
        "outputId": "f5a904cb-86bf-4cfe-ff5b-db60e5eb0b49"
      },
      "execution_count": null,
      "outputs": [
        {
          "output_type": "stream",
          "name": "stdout",
          "text": [
            "Drive already mounted at /content/drive; to attempt to forcibly remount, call drive.mount(\"/content/drive\", force_remount=True).\n"
          ]
        }
      ]
    },
    {
      "cell_type": "code",
      "source": [
        "def unzip(path):\n",
        "    files = zf.ZipFile(path,'r')\n",
        "    files.extractall()\n",
        "    files.close()"
      ],
      "metadata": {
        "id": "6N2xcn6ygqns"
      },
      "execution_count": null,
      "outputs": []
    },
    {
      "cell_type": "code",
      "source": [
        "unzip(\"/content/drive/MyDrive/Colab Notebooks/test.zip\")"
      ],
      "metadata": {
        "id": "M-qBH3QEiDec"
      },
      "execution_count": null,
      "outputs": []
    },
    {
      "cell_type": "code",
      "source": [
        "input_dir = \"./test/\"\n",
        "output_dir = \"./processed data/\"\n",
        "\n",
        "print(\"****************************** Load Data 2014-2017 ******************************\")\n",
        "df1 = create_features(input_dir, output_dir, 20140101, 20180101)\n",
        "print(\"****************************** Load Data 2014-2018 ******************************\")\n",
        "df2 = create_features(input_dir, output_dir, 20140101, 20190101)"
      ],
      "metadata": {
        "id": "XBzTtuoKbRY6",
        "outputId": "17d54706-0437-470c-bd1c-2899e6f09f8a",
        "colab": {
          "base_uri": "https://localhost:8080/"
        }
      },
      "execution_count": null,
      "outputs": [
        {
          "output_type": "stream",
          "name": "stdout",
          "text": [
            "****************************** Load Data 2014-2017 ******************************\n",
            "ret shape:  (2448284, 11)\n",
            "Load data......elapsed time:  65.41080641746521 s......\n",
            "missing_values_count:\n",
            " Date                              0\n",
            "Time                              0\n",
            "Id                                0\n",
            "ResidualNoWinsorCumReturn         0\n",
            "RawNoWinsorCumReturn              0\n",
            "estVol                            0\n",
            "SharesOutstanding                84\n",
            "MDV_63                            6\n",
            "CleanMid                     254473\n",
            "CumVolume                    254473\n",
            "IsOpen                       254473\n",
            "dtype: int64\n",
            "percent_missing:  2.8350432013160685\n",
            "Fill missing data......elapsed time:  7.321627378463745 s......\n",
            "Winsorize data......elapsed time:  47.01219177246094 s......\n",
            "Save data......Finished......elapsed time:  32.52344560623169 s......\n",
            "****************************** Load Data 2014-2018 ******************************\n",
            "ret shape:  (3059576, 11)\n",
            "Load data......elapsed time:  87.84741425514221 s......\n",
            "missing_values_count:\n",
            " Date                              0\n",
            "Time                              0\n",
            "Id                                0\n",
            "ResidualNoWinsorCumReturn         0\n",
            "RawNoWinsorCumReturn              0\n",
            "estVol                            0\n",
            "SharesOutstanding                90\n",
            "MDV_63                            9\n",
            "CleanMid                     324349\n",
            "CumVolume                    324349\n",
            "IsOpen                       324349\n",
            "dtype: int64\n",
            "percent_missing:  2.8915058224348136\n",
            "Fill missing data......elapsed time:  9.267446279525757 s......\n",
            "Winsorize data......elapsed time:  58.629595041275024 s......\n",
            "Save data......Finished......elapsed time:  40.33323645591736 s......\n"
          ]
        }
      ]
    },
    {
      "cell_type": "code",
      "source": [
        "df1 = pd.read_csv(\"./processed data/features20140101_20180101.csv\")\n",
        "df2 = pd.read_csv(\"./processed data/features20140101_20190101.csv\").drop(columns = [\"Unnamed: 0\"], axis = 1)"
      ],
      "metadata": {
        "id": "XFnXAKgg6LnJ"
      },
      "execution_count": null,
      "outputs": []
    },
    {
      "cell_type": "code",
      "source": [
        "df1 = pd.read_csv(\"./processed data/features20140101_20180101.csv\")\n"
      ],
      "metadata": {
        "id": "L2qA6Y8523BZ"
      },
      "execution_count": null,
      "outputs": []
    },
    {
      "cell_type": "code",
      "source": [
        "# Test data leakage\n",
        "df1 = df1.set_index([\"Date\", \"Id\"])\n",
        "df2 = df2.set_index([\"Date\", \"Id\"])\n",
        "\n",
        "is_equal = (df1 - df2).dropna()\n",
        "abs(is_equal).sum()"
      ],
      "metadata": {
        "colab": {
          "base_uri": "https://localhost:8080/"
        },
        "id": "fzcSg4yQpowp",
        "outputId": "7d984279-c9e1-4d76-8b1f-1479623376f5"
      },
      "execution_count": null,
      "outputs": [
        {
          "output_type": "execute_result",
          "data": {
            "text/plain": [
              "10/17res         0.0\n",
              "10/17raw         0.0\n",
              "16/17res         0.0\n",
              "16/17raw         0.0\n",
              "17ma1raw         0.0\n",
              "17ma3raw         0.0\n",
              "17ma5raw         0.0\n",
              "17ma20raw        0.0\n",
              "17ma1-3raw       0.0\n",
              "17ma1-5raw       0.0\n",
              "17ma1-20raw      0.0\n",
              "17ma1res         0.0\n",
              "17ma3res         0.0\n",
              "17ma5res         0.0\n",
              "17ma20res        0.0\n",
              "17ma1-3res       0.0\n",
              "17ma1-5res       0.0\n",
              "17ma1-20res      0.0\n",
              "market_value     0.0\n",
              "10/17vol         0.0\n",
              "16/17vol         0.0\n",
              "turnover_ma1     0.0\n",
              "turnover_ma3     0.0\n",
              "turnover_ma5     0.0\n",
              "turnover_ma20    0.0\n",
              "estVol           0.0\n",
              "cleanMid17       0.0\n",
              "cleanMid16       0.0\n",
              "cleanMid10       0.0\n",
              "vol17            0.0\n",
              "y                0.0\n",
              "dtype: float64"
            ]
          },
          "metadata": {},
          "execution_count": 120
        }
      ]
    },
    {
      "cell_type": "markdown",
      "source": [
        "***No Data Leakage***"
      ],
      "metadata": {
        "id": "Jj9Idsrafc2T"
      }
    },
    {
      "cell_type": "markdown",
      "source": [
        "## Train/Valid/Test Split\n",
        "\n",
        "***Train: 2014-2017 data***\n",
        "\n",
        "***Test: 2018 data***"
      ],
      "metadata": {
        "id": "nFS2ZfLvoYw7"
      }
    },
    {
      "cell_type": "code",
      "source": [
        "# load train set from 2014-2016/2014-2017\n",
        "train = df1.reset_index().drop([\"Date\", \"Id\"], axis = 1)\n",
        "train = train[train['y'].notna()]\n",
        "\n",
        "train141516 = df1.loc[df1.index.get_level_values(\"Date\") < str(20170101)].reset_index().drop([\"Date\", \"Id\"], axis = 1)\n",
        "train141516 = train141516[train141516['y'].notna()]\n",
        "train17 = df1.loc[df1.index.get_level_values(\"Date\") >= str(20170101)].reset_index().drop([\"Date\", \"Id\"], axis = 1)\n",
        "train17 = train17[train17['y'].notna()]\n",
        "\n",
        "# load test set 2017/2018\n",
        "test = df2.loc[df2.index.get_level_values(\"Date\") >= str(20180101)].reset_index().drop([\"Date\", \"Id\"], axis = 1)\n",
        "test = test[test['y'].notna()]\n",
        "\n",
        "\n",
        "# load target and features\n",
        "X_train = train.iloc[:, :-1]\n",
        "y_train = train['y']\n",
        "X_test = test.iloc[:, :-1]\n",
        "y_test = test['y']\n",
        "\n",
        "X_train141516 = train141516.iloc[:, :-1]\n",
        "y_train141516 = train141516['y']\n",
        "X_train17 = train17.iloc[:, :-1]\n",
        "y_train17 = train17['y']"
      ],
      "metadata": {
        "id": "lQ8m4vEWLBK-"
      },
      "execution_count": 204,
      "outputs": []
    },
    {
      "cell_type": "markdown",
      "source": [
        "## Feature Selection"
      ],
      "metadata": {
        "id": "onOQun8oohM9"
      }
    },
    {
      "cell_type": "code",
      "source": [
        "# vif filter\n",
        "def calculateVIF(X):\n",
        "    vif_data = pd.DataFrame({\n",
        "        \"Names\": X.columns,\n",
        "        \"VIF\": [variance_inflation_factor(X.values, i) for i in range(X.shape[1])]\n",
        "    })\n",
        "    return vif_data\n",
        "\n",
        "mtrain = X_train.copy()\n",
        "vif = calculateVIF(mtrain)\n",
        "while(vif[\"VIF\"].max() >= 10):\n",
        "    drop_var = vif[vif.VIF == vif[\"VIF\"].max()][\"Names\"]\n",
        "    print(drop_var)\n",
        "    mtrain = mtrain.drop(drop_var, axis = 1)\n",
        "    vif = calculateVIF(mtrain)\n",
        "print(mtrain.columns)"
      ],
      "metadata": {
        "colab": {
          "base_uri": "https://localhost:8080/"
        },
        "id": "qKhv9PY_Bi0E",
        "outputId": "6f90e51f-5796-4183-d984-e845d24ff44f"
      },
      "execution_count": null,
      "outputs": [
        {
          "output_type": "stream",
          "name": "stderr",
          "text": [
            "/usr/local/lib/python3.7/dist-packages/statsmodels/stats/outliers_influence.py:185: RuntimeWarning: divide by zero encountered in double_scalars\n",
            "  vif = 1. / (1. - r_squared_i)\n"
          ]
        },
        {
          "output_type": "stream",
          "name": "stdout",
          "text": [
            "4        17ma1raw\n",
            "5        17ma3raw\n",
            "7       17ma20raw\n",
            "8      17ma1-3raw\n",
            "9      17ma1-5raw\n",
            "11       17ma1res\n",
            "15     17ma1-3res\n",
            "16     17ma1-5res\n",
            "17    17ma1-20res\n",
            "Name: Names, dtype: object\n",
            "18    cleanMid16\n",
            "Name: Names, dtype: object\n",
            "17    cleanMid17\n",
            "Name: Names, dtype: object\n",
            "14    turnover_ma5\n",
            "Name: Names, dtype: object\n",
            "13    turnover_ma3\n",
            "Name: Names, dtype: object\n",
            "11    16/17vol\n",
            "Name: Names, dtype: object\n",
            "Index(['10/17res', '10/17raw', '16/17res', '16/17raw', '17ma5raw',\n",
            "       '17ma1-20raw', '17ma3res', '17ma5res', '17ma20res', 'market_value',\n",
            "       '10/17vol', 'turnover_ma1', 'turnover_ma20', 'estVol', 'cleanMid10',\n",
            "       'vol17'],\n",
            "      dtype='object')\n"
          ]
        }
      ]
    },
    {
      "cell_type": "code",
      "source": [
        "# Backward Elimination\n",
        "lr = LGBMRegressor()\n",
        "sfs_initial = sfs(lr, k_features = 25, forward = False, verbose = 1, scoring = 'neg_mean_squared_error')\n",
        "sfs_initial.fit(X_train.values, y_train.values)\n",
        "print(\"Selected features:\", sfs_initial.k_feature_names_)"
      ],
      "metadata": {
        "id": "KbvDMPttNEbR"
      },
      "execution_count": null,
      "outputs": []
    },
    {
      "cell_type": "code",
      "source": [
        "# Forward Elimination\n",
        "lr = LGBMRegressor()\n",
        "sfs_initial = sfs(lr, k_features = 25, forward = True, verbose = 1, scoring = 'neg_mean_squared_error')\n",
        "sfs_initial.fit(X_train.values, y_train.values)\n",
        "print(\"Selected features:\", sfs_initial.k_feature_names_)"
      ],
      "metadata": {
        "id": "SE03RHixow6o"
      },
      "execution_count": null,
      "outputs": []
    },
    {
      "cell_type": "code",
      "source": [
        "X_train.columns"
      ],
      "metadata": {
        "colab": {
          "base_uri": "https://localhost:8080/"
        },
        "id": "dLo8Cfh3LKTf",
        "outputId": "ee751492-05a0-4c23-f8ba-d7dbe1cab864"
      },
      "execution_count": null,
      "outputs": [
        {
          "output_type": "execute_result",
          "data": {
            "text/plain": [
              "Index(['Unnamed: 0', '10/17res', '10/17raw', '16/17res', '16/17raw',\n",
              "       '17ma1raw', '17ma3raw', '17ma5raw', '17ma20raw', '17ma1-3raw',\n",
              "       '17ma1-5raw', '17ma1-20raw', '17ma1res', '17ma3res', '17ma5res',\n",
              "       '17ma20res', '17ma1-3res', '17ma1-5res', '17ma1-20res', 'market_value',\n",
              "       '10/17vol', '16/17vol', 'turnover_ma1', 'turnover_ma3', 'turnover_ma5',\n",
              "       'turnover_ma20', 'estVol', 'cleanMid17', 'cleanMid16', 'cleanMid10',\n",
              "       'vol17'],\n",
              "      dtype='object')"
            ]
          },
          "metadata": {},
          "execution_count": 68
        }
      ]
    },
    {
      "cell_type": "code",
      "source": [
        "# use only selected features\n",
        "selected_features_vif = ['10/17res', '10/17raw', '16/17res', '16/17raw', '17ma3raw', '17ma3res',\n",
        "       '17ma5res', 'market_value', '10/17vol', '16/17vol', 'turnover_ma1',\n",
        "       'turnover_ma20', 'estVol', 'cleanMid17', 'vol17']\n",
        "selected_features_be = ['16/17res', '16/17raw', '17ma20raw', '17ma1-3raw', '17ma1-5raw',\n",
        "       '17ma1res', '17ma3res', '17ma5res', '17ma20res', '17ma1-3res',\n",
        "       '17ma1-5res', '17ma1-20res', 'market_value', '10/17vol', '16/17vol',\n",
        "       'turnover_ma3', 'turnover_ma5', 'turnover_ma20', 'illiq17_y', 'MDV_63',\n",
        "       'estVol', 'cleanMid17', 'cleanMid10', 'vol10',\n",
        "       'ResidualNoWinsorCumReturn winsorized']\n",
        "selected_features_fe = ['16/17res', '16/17raw', '17ma20raw', '17ma1-3raw', '17ma1-5raw',\n",
        "      '17ma1res', '17ma3res', '17ma5res', '17ma20res', '17ma1-3res',\n",
        "      '17ma1-5res', '17ma1-20res', 'market_value', '10/17vol', '16/17vol',\n",
        "      'turnover_ma3', 'turnover_ma5', 'turnover_ma20', 'illiq17_y', 'MDV_63',\n",
        "      'estVol', 'cleanMid17', 'cleanMid10', 'vol10',\n",
        "      'ResidualNoWinsorCumReturn winsorized']\n",
        "\n",
        "def select_features(method = \"vif\"):\n",
        "\n",
        "    if method == \"vif\":\n",
        "      selected_features = selected_features_vif\n",
        "    elif method == \"be\":\n",
        "      selected_features = selected_features_be\n",
        "    elif method == \"fe\":\n",
        "      selected_features = selected_features_fe\n",
        "    else:\n",
        "      return None\n",
        "    \n",
        "    return selected_features"
      ],
      "metadata": {
        "id": "ww-tuBIUB2vU"
      },
      "execution_count": null,
      "outputs": []
    },
    {
      "cell_type": "code",
      "source": [
        "selected_features = select_features(method = \"vif\")\n",
        "X_train = X_train[selected_features]\n",
        "X_train141516 = X_train141516[selected_features]\n",
        "X_test = X_test[selected_features]\n",
        "X_train17 = X_train17[selected_features]"
      ],
      "metadata": {
        "id": "1KU-zxc2Zm6J"
      },
      "execution_count": null,
      "outputs": []
    },
    {
      "cell_type": "markdown",
      "source": [
        "## Regression"
      ],
      "metadata": {
        "id": "f0zE2B15Y2Bd"
      }
    },
    {
      "cell_type": "code",
      "source": [
        "# normalize the data\n",
        "# scaler = StandardScaler()\n",
        "# scaler.fit(X_train)\n",
        "# X_train_scaled = pd.DataFrame(scaler.transform(X_train), columns = X_train.columns).fillna(0)\n",
        "# X_test_scaled = pd.DataFrame(scaler.transform(X_test), columns = X_test.columns).fillna(0)"
      ],
      "metadata": {
        "id": "sH9eGDuNCpYO"
      },
      "execution_count": null,
      "outputs": []
    },
    {
      "cell_type": "code",
      "source": [
        "# wide search\n",
        "# ridge model\n",
        "ridge_alphas = np.linspace(0, 100, 21)\n",
        "regmodel.regmodel_hyperparameter_tuning(ridge_alphas, X_train, y_train, \n",
        "                               n_splits = 5,  how_cv = \"walk_forwarding\", model_name = 'Ridge', X_test = X_test, y_test = y_test, \n",
        "                               draw_plot = True, filename = 'ridge_wide_search')"
      ],
      "metadata": {
        "id": "iVSpgu1s5cTt"
      },
      "execution_count": null,
      "outputs": []
    },
    {
      "cell_type": "code",
      "source": [
        "# wide search2\n",
        "# ridge model\n",
        "ridge_alphas = np.linspace(0, 10, 21)\n",
        "regmodel.regmodel_hyperparameter_tuning(ridge_alphas, X_train, y_train, \n",
        "                               n_splits = 5,  how_cv = \"walk_forwarding\", model_name = 'Ridge', X_test = X_test, y_test = y_test, \n",
        "                               draw_plot = True, filename = 'ridge_wide_search2')"
      ],
      "metadata": {
        "id": "WL3Sqd4d5ai-"
      },
      "execution_count": null,
      "outputs": []
    },
    {
      "cell_type": "code",
      "source": [
        "# granular search\n",
        "# ridge model\n",
        "ridge_alphas = np.linspace(0, 1.5, 21)\n",
        "chosen_alpha, _, _ = regmodel.regmodel_hyperparameter_tuning(ridge_alphas, X_train, y_train, \n",
        "                               n_splits = 5,  how_cv = \"walk_forwarding\", model_name = 'Ridge', X_test = X_test, y_test = y_test, \n",
        "                               draw_plot = True, filename = 'ridge_granular_search')"
      ],
      "metadata": {
        "id": "NnxUfjdB7tJy"
      },
      "execution_count": null,
      "outputs": []
    },
    {
      "cell_type": "code",
      "source": [
        "# save ridge model\n",
        "ridge_model = Ridge(alpha = chosen_alpha, fit_intercept = True)\n",
        "ridge_model = ridge_model.fit(X_train, y_train)\n",
        "pickle.dump(ridge_model, open(\"ridge.sav\", 'wb'))"
      ],
      "metadata": {
        "id": "Y3aDPWSM79yl"
      },
      "execution_count": null,
      "outputs": []
    },
    {
      "cell_type": "code",
      "source": [
        "perm = permutation_importance(ridge_model, X_test, y_test, n_repeats = 10, random_state = my_random_state)\n",
        "ridge_importances = pd.Series(perm.importances_mean, index = X_test.columns.tolist())\n",
        "std = perm.importances_std\n",
        "\n",
        "fig, ax = plt.subplots()\n",
        "ridge_importances.plot.bar(yerr=std, ax=ax)\n",
        "ax.set_title(\"Feature importances using MDI\")\n",
        "ax.set_ylabel(\"Mean decrease in impurity\")\n",
        "fig.tight_layout()\n",
        "plt.savefig(\"feature_importance_ridge.jpg\")"
      ],
      "metadata": {
        "colab": {
          "base_uri": "https://localhost:8080/",
          "height": 297
        },
        "id": "oARRXSQSAqOZ",
        "outputId": "f45a5d57-d804-4763-d699-1f088238c52b"
      },
      "execution_count": null,
      "outputs": [
        {
          "output_type": "display_data",
          "data": {
            "text/plain": [
              "<Figure size 432x288 with 1 Axes>"
            ],
            "image/png": "[encoded data removed]"
          },
          "metadata": {
            "needs_background": "light"
          }
        }
      ]
    },
    {
      "cell_type": "code",
      "source": [
        "# linear regreesion\n",
        "lr_model = LinearRegression()\n",
        "lr_model.fit(X_train, y_train)\n",
        "y_pred = lr_model.predict(X_test)\n",
        "r2_weight = 1 / X_test[\"estVol\"]\n",
        "print(r2_score(y_test, y_pred, sample_weight = r2_weight))\n",
        "# save model\n",
        "pickle.dump(lr_model, open(\"regmodel.sav\", 'wb'))"
      ],
      "metadata": {
        "colab": {
          "base_uri": "https://localhost:8080/"
        },
        "id": "oW1tn2ov9ZbG",
        "outputId": "7fa40f36-3512-4c09-f8e0-b5aa1afd11ba"
      },
      "execution_count": null,
      "outputs": [
        {
          "output_type": "stream",
          "name": "stdout",
          "text": [
            "0.001119135109870606\n"
          ]
        }
      ]
    },
    {
      "cell_type": "code",
      "source": [
        "perm = permutation_importance(lr_model, X_test, y_test, n_repeats = 10, random_state = my_random_state)\n",
        "ridge_importances = pd.Series(perm.importances_mean, index = X_test.columns.tolist())\n",
        "std = perm.importances_std\n",
        "\n",
        "fig, ax = plt.subplots()\n",
        "ridge_importances.plot.bar(yerr=std, ax=ax)\n",
        "ax.set_title(\"Feature importances using MDI\")\n",
        "ax.set_ylabel(\"Mean decrease in impurity\")\n",
        "fig.tight_layout()\n",
        "plt.savefig(\"feature_importance_simpleLR.jpg\")"
      ],
      "metadata": {
        "colab": {
          "base_uri": "https://localhost:8080/",
          "height": 297
        },
        "id": "EDY3i5-ACjEF",
        "outputId": "e4b9e1ba-dc5e-4daa-e92d-15c0512c0de3"
      },
      "execution_count": null,
      "outputs": [
        {
          "output_type": "display_data",
          "data": {
            "text/plain": [
              "<Figure size 432x288 with 1 Axes>"
            ],
            "image/png": "[encoded data removed]"
          },
          "metadata": {
            "needs_background": "light"
          }
        }
      ]
    },
    {
      "cell_type": "markdown",
      "source": [
        "## LightGBM"
      ],
      "metadata": {
        "id": "xtoDaMlZujB0"
      }
    },
    {
      "cell_type": "code",
      "source": [
        "permutations_lgb = { 'learning_rate': [0.05, 0.1],\n",
        "                    'num_leaves': [24, 80],\n",
        "                    'feature_fraction': [0.1, 0.9],\n",
        "                    'bagging_fraction': [0.8, 1],\n",
        "                    'max_depth': [5, 30]}\n",
        "my_model = LGBMRegressor()\n",
        "best_paras1 = light_gbm.parameter_tuning(my_model, X_train, y_train, \n",
        "                              X_train17, y_train17, X_train, y_train, \n",
        "                              X_test, y_test, permutations_lgb, cv_folds = 5, how = \"rolling\")\n",
        "best_paras2 = light_gbm.parameter_tuning(my_model, X_train141516, y_train141516, \n",
        "                              X_train17, y_train17, X_train, y_train, \n",
        "                              X_test, y_test, permutations_lgb, cv_folds = 5, how = \"expanding\")\n"
      ],
      "metadata": {
        "id": "drVfJlFfu0V0"
      },
      "execution_count": null,
      "outputs": []
    },
    {
      "cell_type": "code",
      "source": [
        "my_model = LGBMRegressor()\n",
        "eval_metric = ['logloss', 'rmse', 'mae', 'rmsle', 'mphe']\n",
        "early_stopping_rounds = [0, 5, 20, 50]\n",
        "best_paras = best_paras = {'learning_rate': 0.05,\n",
        "              'num_leaves': 24,\n",
        "              'feature_fraction': 0.1,\n",
        "              'bagging_fraction': 0.8,\n",
        "              'max_depth': 5}\n",
        "for es in early_stopping_rounds:\n",
        "    for em in eval_metric:\n",
        "        my_model.set_params(**best_paras)  \n",
        "        print(f\"\\neval_metrix: {em}, early_stopping_rounds: {es}\")\n",
        "        my_model = light_gbm.lgb_fit(my_model, X_train141516, y_train141516, \n",
        "                  X_train17, y_train17, X_train, y_train, \n",
        "                  X_test, y_test, early_stopping_rounds = es, eval_metric = em)\n",
        "        \n",
        "# for es in early_stopping_rounds:\n",
        "#     for em in eval_metric:\n",
        "#         my_model.set_params(**best_paras2)  \n",
        "#         print(f\"\\neval_metrix: {em}, early_stopping_rounds: {es}\")\n",
        "#         my_model = lgb_fit(my_model, X_train141516, y_train141516, \n",
        "#                   X_train17, y_train17, X_train, y_train, \n",
        "#                   X_test, y_test, early_stopping_rounds = es, eval_metric = em)"
      ],
      "metadata": {
        "id": "Ckpv0lDRxW4s"
      },
      "execution_count": null,
      "outputs": []
    },
    {
      "cell_type": "code",
      "source": [
        "my_model = LGBMRegressor()\n",
        "best_paras = best_paras = {'learning_rate': 0.05,\n",
        "              'num_leaves': 24,\n",
        "              'feature_fraction': 0.1,\n",
        "              'bagging_fraction': 0.8,\n",
        "              'max_depth': 5}\n",
        "my_model.set_params(**best_paras)\n",
        "# my_model = light_gbm.lgb_fit(my_model, X_train141516, y_train141516, \n",
        "#                   X_train17, y_train17, X_train, y_train, \n",
        "#                   X_test, y_test, early_stopping_rounds = 0, eval_metric = \"logloss\")\n",
        "my_model.fit(X_train, y_train, eval_metric=\"logloss\")\n",
        "with open('lightgbm.pkl', 'wb') as files:\n",
        "    pickle.dump(my_model, files)\n",
        "\n",
        "#pickle.dump(my_model, open(\"lightgbm.sav\", 'wb'))"
      ],
      "metadata": {
        "id": "A-kf60zWyC6w"
      },
      "execution_count": 214,
      "outputs": []
    },
    {
      "cell_type": "code",
      "source": [
        "def predict(input_dir, output_dir, start_date, end_date, model = \"lightgbm\"):\n",
        "    df = pd.read_csv(input_dir + \"features20140101_20190101.csv\", sep = \",\")\n",
        "    \n",
        "    id_date = df.iloc[:,1:3]\n",
        "    temp = df[df[\"Date\"] >= (start_date)]\n",
        "    test = temp[temp[\"Date\"] <= (end_date)].drop(columns = [\"Date\", \"Id\"], axis = 1)\n",
        "    test = test.iloc[:, 1:]\n",
        "    X_test = test.iloc[:, :-1]\n",
        "    y_test = test['y']\n",
        "\n",
        "    filepath = input_dir + model + \".sav\"\n",
        "    # lightgbm is saved as lightgbm.sav in folder model\n",
        "    # load the model from disk\n",
        "    loaded_model = pickle.load(open(filepath, 'rb'))\n",
        "    y_pred = loaded_model.predict(X_test)\n",
        "        \n",
        "    id_date[\"Pred\"] = y_pred\n",
        "    id_date[\"Time\"] = \"17:30:00.000\"\n",
        "    id_date = id_date[[\"Date\", \"Time\", \"Id\", \"Pred\"]]\n",
        "    id_date.to_csv(\"drift_plot.csv\")\n",
        "    #for date in set(id_date.Date):\n",
        "    #    id_date[id_date[\"Date\"] == date].to_csv(str(date)+\".csv\", index = False)\n",
        "    return id_date\n"
      ],
      "metadata": {
        "id": "FN_Oq9iOppT7"
      },
      "execution_count": null,
      "outputs": []
    },
    {
      "cell_type": "code",
      "source": [
        "!lightgbm -version"
      ],
      "metadata": {
        "colab": {
          "base_uri": "https://localhost:8080/"
        },
        "id": "IlpsBUP4wIpu",
        "outputId": "316c4ca3-4182-4725-e1af-0c8d3bf736e6"
      },
      "execution_count": 213,
      "outputs": [
        {
          "output_type": "stream",
          "name": "stdout",
          "text": [
            "tensorflow 2.8.0 requires tf-estimator-nightly, which is not installed.\n",
            "nbclient 0.5.13 has requirement jupyter-client>=6.1.5, but you have jupyter-client 5.3.5.\n",
            "datascience 0.10.6 has requirement folium==0.2.1, but you have folium 0.8.3.\n",
            "albumentations 0.1.12 has requirement imgaug<0.2.7,>=0.2.5, but you have imgaug 0.2.9.\n"
          ]
        }
      ]
    },
    {
      "cell_type": "code",
      "source": [
        "result = permutation_importance(my_model, X_train, y_train)\n",
        "\n",
        "sorted_idx = result.importances_mean.argsort()\n",
        "\n",
        "fig, ax = plt.subplots(figsize = (15,12))\n",
        "ax.boxplot(\n",
        "    result.importances[sorted_idx].T, vert=False, labels=X_train.columns[sorted_idx]\n",
        ")\n",
        "ax.set_title(\"Permutation Importances (training set)\")\n",
        "fig.tight_layout()\n",
        "plt.savefig(\"permutation_importance_lightgbm.jpg\")\n",
        "plt.show()"
      ],
      "metadata": {
        "id": "V5PgCbkB-X_C"
      },
      "execution_count": null,
      "outputs": []
    },
    {
      "cell_type": "markdown",
      "source": [
        "## XG Boost"
      ],
      "metadata": {
        "id": "ChC7o3qU9r2N"
      }
    },
    {
      "cell_type": "code",
      "source": [
        "## XG Boost tuning\n",
        "permutations_xgb = { 'max_depth':[4,5,6],\n",
        "                    'min_child_weight':[4,5],\n",
        "                    'n_estimators': [100, 150],\n",
        "                    'gamma': [0, 0.1],\n",
        "                    'learning_rate': [0.05, 0.1]} \n",
        "xgb_model = XGBRegressor()\n",
        "best_paras = xg_boost.parameter_tuning(xgb_model, X_train141516, y_train141516, \n",
        "                  X_train17, y_train17, X_train, y_train, \n",
        "                  X_test, y_test, permutations_xgb, cv_folds = 5, how = \"walk_forwarding\")"
      ],
      "metadata": {
        "id": "_Sa-10qn9Pmf"
      },
      "execution_count": null,
      "outputs": []
    },
    {
      "cell_type": "code",
      "source": [
        "# fit and save model\n",
        "xgb_model = XGBRegressor()\n",
        "best_paras = { 'max_depth': 5,\n",
        "                    'min_child_weight':5,\n",
        "                    'n_estimators': 100,\n",
        "                    'gamma': 0,\n",
        "                    'learning_rate': 0.1} \n",
        "xgb_model.set_params(**best_paras)  \n",
        "xgb_model = xgb_fit(xgb_model, X_train141516, y_train141516, \n",
        "                  X_train17, y_train17, X_train, y_train, \n",
        "                    X_test, y_test, early_stopping_rounds = 50, eval_metric = 'logloss')\n",
        "pickle.dump(xgb_model, open(\"xgboost.pkl\", 'wb'))"
      ],
      "metadata": {
        "id": "Eir3ENrIN2P8"
      },
      "execution_count": null,
      "outputs": []
    },
    {
      "cell_type": "code",
      "source": [
        "# permutation importance\n",
        "xgb_model.fit(X_train, y_train)\n",
        "result = permutation_importance(xgb_model, X_train, y_train)\n",
        "\n",
        "sorted_idx = result.importances_mean.argsort()\n",
        "\n",
        "fig, ax = plt.subplots(figsize = (15,12))\n",
        "ax.boxplot(\n",
        "    result.importances[sorted_idx].T, vert=False, labels=X_train.columns[sorted_idx]\n",
        ")\n",
        "ax.set_title(\"Permutation Importances (training set)\")\n",
        "fig.tight_layout()\n",
        "plt.savefig(\"permutation_importance_xgboost.jpg\")\n",
        "plt.show()"
      ],
      "metadata": {
        "id": "4ajKC7QnWby2"
      },
      "execution_count": null,
      "outputs": []
    },
    {
      "cell_type": "markdown",
      "source": [
        "## Extra Trees"
      ],
      "metadata": {
        "id": "Yx6uARxbLxp6"
      }
    },
    {
      "cell_type": "code",
      "source": [
        "import shutil\n",
        "colab_link = \"/content/drift_plot.csv\"\n",
        "gdrive_link = \"/content/drive/MyDrive/\"\n",
        "shutil.copy(colab_link, gdrive_link)"
      ],
      "metadata": {
        "colab": {
          "base_uri": "https://localhost:8080/",
          "height": 35
        },
        "id": "OBjGrHRaRNnm",
        "outputId": "b7fb5ed6-b316-4e95-a255-9e595bd906b6"
      },
      "execution_count": null,
      "outputs": [
        {
          "output_type": "execute_result",
          "data": {
            "text/plain": [
              "'/content/drive/MyDrive/drift_plot.csv'"
            ],
            "application/vnd.google.colaboratory.intrinsic+json": {
              "type": "string"
            }
          },
          "metadata": {},
          "execution_count": 201
        }
      ]
    },
    {
      "cell_type": "code",
      "source": [
        "from sklearn.ensemble import ExtraTreesRegressor\n",
        "\n",
        "permutations_extra = {'n_estimators': [50, 100, 150],\n",
        "                      'min_samples_leaf': [3,5],\n",
        "                      'min_samples_split': [2,4],\n",
        "                      'criterion': ['mse'],\n",
        "                      'max_depth': [8,32]}  "
      ],
      "metadata": {
        "id": "srAohi6KLwFZ"
      },
      "execution_count": null,
      "outputs": []
    },
    {
      "cell_type": "code",
      "source": [
        "etr_model = ExtraTreesRegressor()\n",
        "best_paras = parameter_tuning(etr_model, X_train141516, y_train141516, \n",
        "                  X_train17, y_train17, X_train, y_train, \n",
        "                  X_test, y_test, permutations_extra, cv_folds = 5, how = \"walk_forwarding\")\n",
        "etr_model.set_params(**best_paras)  \n",
        "etr_model = extratree_fit(etr_model, X_train, y_train, X_test, y_test)"
      ],
      "metadata": {
        "id": "lgYyUov2MPxb"
      },
      "execution_count": null,
      "outputs": []
    },
    {
      "cell_type": "code",
      "source": [
        "best_paras = {\n",
        "    'n_estimators': 150, 'min_samples_leaf': 5, 'min_samples_split': 4, 'criterion': 'mse', 'max_depth': 8\n",
        "    }\n",
        "ext_model = ExtraTreesRegressor()\n",
        "ext_model.set_params(**best_paras)  \n",
        "ext_model = extratree_fit(ext_model, X_train, y_train, X_test, y_test)\n",
        "pickle.dump(ext_model, open(\"extratrees.sav\", 'wb'))"
      ],
      "metadata": {
        "colab": {
          "base_uri": "https://localhost:8080/"
        },
        "id": "Acl4SVcmR9HA",
        "outputId": "5ab09fd8-3a51-4cb0-b9c4-c8f5a1f94ecb"
      },
      "execution_count": null,
      "outputs": [
        {
          "output_type": "stream",
          "name": "stderr",
          "text": [
            "/usr/local/lib/python3.7/dist-packages/sklearn/ensemble/_forest.py:400: FutureWarning: Criterion 'mse' was deprecated in v1.0 and will be removed in version 1.2. Use `criterion='squared_error'` which is equivalent.\n",
            "  FutureWarning,\n"
          ]
        },
        {
          "output_type": "stream",
          "name": "stdout",
          "text": [
            "\n",
            "Model Report\n",
            "train r2: 0.5482718717648938%, test r2: 0.11293803318946916%\n"
          ]
        }
      ]
    },
    {
      "cell_type": "code",
      "source": [
        "result = permutation_importance(ext_model, X_train, y_train)\n",
        "sorted_idx = result.importances_mean.argsort()\n",
        "fig, ax = plt.subplots(figsize = (15,12))\n",
        "ax.boxplot(result.importances[sorted_idx].T, vert=False, labels=X_train.columns[sorted_idx])\n",
        "ax.set_title(\"Permutation Importances (training set)\")\n",
        "fig.tight_layout()\n",
        "plt.show()\n",
        "plt.savefig(\"permutation_importance_extra_trees.jpg\")"
      ],
      "metadata": {
        "id": "iPBdfgZbXZt6"
      },
      "execution_count": null,
      "outputs": []
    }
  ],
  "metadata": {
    "colab": {
      "collapsed_sections": [],
      "name": "test",
      "provenance": [],
      "machine_shape": "hm"
    },
    "kernelspec": {
      "display_name": "Python 3",
      "name": "python3"
    },
    "accelerator": "GPU"
  },
  "nbformat": 4,
  "nbformat_minor": 0
}